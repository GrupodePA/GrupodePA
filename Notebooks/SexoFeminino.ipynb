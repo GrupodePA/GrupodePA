{
 "cells": [
  {
   "cell_type": "markdown",
   "id": "a0544973",
   "metadata": {},
   "source": [
    "# Import Pandas,Matplotlib e CSV"
   ]
  },
  {
   "cell_type": "code",
   "execution_count": 125,
   "id": "e536140d",
   "metadata": {},
   "outputs": [
    {
     "data": {
      "text/html": [
       "<div>\n",
       "<style scoped>\n",
       "    .dataframe tbody tr th:only-of-type {\n",
       "        vertical-align: middle;\n",
       "    }\n",
       "\n",
       "    .dataframe tbody tr th {\n",
       "        vertical-align: top;\n",
       "    }\n",
       "\n",
       "    .dataframe thead th {\n",
       "        text-align: right;\n",
       "    }\n",
       "</style>\n",
       "<table border=\"1\" class=\"dataframe\">\n",
       "  <thead>\n",
       "    <tr style=\"text-align: right;\">\n",
       "      <th></th>\n",
       "      <th>Id</th>\n",
       "      <th>Meses</th>\n",
       "      <th>Local_de_residencia</th>\n",
       "      <th>Sexo</th>\n",
       "      <th>Meio de transporte</th>\n",
       "      <th>N_de_viagens</th>\n",
       "      <th>Ano</th>\n",
       "    </tr>\n",
       "  </thead>\n",
       "  <tbody>\n",
       "    <tr>\n",
       "      <th>0</th>\n",
       "      <td>1</td>\n",
       "      <td>Dezembro</td>\n",
       "      <td>Portugal</td>\n",
       "      <td>M</td>\n",
       "      <td>Terrestre</td>\n",
       "      <td>490061</td>\n",
       "      <td>2020.0</td>\n",
       "    </tr>\n",
       "    <tr>\n",
       "      <th>1</th>\n",
       "      <td>2</td>\n",
       "      <td>Novembro</td>\n",
       "      <td>Portugal</td>\n",
       "      <td>M</td>\n",
       "      <td>Terrestre</td>\n",
       "      <td>269094</td>\n",
       "      <td>2020.0</td>\n",
       "    </tr>\n",
       "    <tr>\n",
       "      <th>2</th>\n",
       "      <td>3</td>\n",
       "      <td>Outubro</td>\n",
       "      <td>Portugal</td>\n",
       "      <td>M</td>\n",
       "      <td>Terrestre</td>\n",
       "      <td>422653</td>\n",
       "      <td>2020.0</td>\n",
       "    </tr>\n",
       "    <tr>\n",
       "      <th>3</th>\n",
       "      <td>4</td>\n",
       "      <td>Setembro</td>\n",
       "      <td>Portugal</td>\n",
       "      <td>M</td>\n",
       "      <td>Terrestre</td>\n",
       "      <td>689298</td>\n",
       "      <td>2020.0</td>\n",
       "    </tr>\n",
       "    <tr>\n",
       "      <th>4</th>\n",
       "      <td>5</td>\n",
       "      <td>Agosto</td>\n",
       "      <td>Portugal</td>\n",
       "      <td>M</td>\n",
       "      <td>Terrestre</td>\n",
       "      <td>1582102</td>\n",
       "      <td>2020.0</td>\n",
       "    </tr>\n",
       "    <tr>\n",
       "      <th>...</th>\n",
       "      <td>...</td>\n",
       "      <td>...</td>\n",
       "      <td>...</td>\n",
       "      <td>...</td>\n",
       "      <td>...</td>\n",
       "      <td>...</td>\n",
       "      <td>...</td>\n",
       "    </tr>\n",
       "    <tr>\n",
       "      <th>127</th>\n",
       "      <td>128</td>\n",
       "      <td>Maio</td>\n",
       "      <td>Portugal</td>\n",
       "      <td>M</td>\n",
       "      <td>Terrestre</td>\n",
       "      <td>400996</td>\n",
       "      <td>2010.0</td>\n",
       "    </tr>\n",
       "    <tr>\n",
       "      <th>128</th>\n",
       "      <td>129</td>\n",
       "      <td>Abril</td>\n",
       "      <td>Portugal</td>\n",
       "      <td>M</td>\n",
       "      <td>Terrestre</td>\n",
       "      <td>541771</td>\n",
       "      <td>2010.0</td>\n",
       "    </tr>\n",
       "    <tr>\n",
       "      <th>129</th>\n",
       "      <td>130</td>\n",
       "      <td>Marco</td>\n",
       "      <td>Portugal</td>\n",
       "      <td>M</td>\n",
       "      <td>Terrestre</td>\n",
       "      <td>402292</td>\n",
       "      <td>2010.0</td>\n",
       "    </tr>\n",
       "    <tr>\n",
       "      <th>130</th>\n",
       "      <td>131</td>\n",
       "      <td>Fevereiro</td>\n",
       "      <td>Portugal</td>\n",
       "      <td>M</td>\n",
       "      <td>Terrestre</td>\n",
       "      <td>474977</td>\n",
       "      <td>2010.0</td>\n",
       "    </tr>\n",
       "    <tr>\n",
       "      <th>131</th>\n",
       "      <td>132</td>\n",
       "      <td>Janeiro</td>\n",
       "      <td>Portugal</td>\n",
       "      <td>M</td>\n",
       "      <td>Terrestre</td>\n",
       "      <td>434454</td>\n",
       "      <td>2010.0</td>\n",
       "    </tr>\n",
       "  </tbody>\n",
       "</table>\n",
       "<p>132 rows × 7 columns</p>\n",
       "</div>"
      ],
      "text/plain": [
       "      Id       Meses  Local_de_residencia  Sexo  Meio de transporte  \\\n",
       "0      1    Dezembro             Portugal     M           Terrestre   \n",
       "1      2    Novembro             Portugal     M           Terrestre   \n",
       "2      3     Outubro             Portugal     M           Terrestre   \n",
       "3      4    Setembro             Portugal     M           Terrestre   \n",
       "4      5      Agosto             Portugal     M           Terrestre   \n",
       "..   ...         ...                  ...   ...                 ...   \n",
       "127  128        Maio             Portugal     M           Terrestre   \n",
       "128  129       Abril             Portugal     M           Terrestre   \n",
       "129  130       Marco             Portugal     M           Terrestre   \n",
       "130  131   Fevereiro             Portugal     M           Terrestre   \n",
       "131  132     Janeiro             Portugal     M           Terrestre   \n",
       "\n",
       "     N_de_viagens     Ano  \n",
       "0          490061  2020.0  \n",
       "1          269094  2020.0  \n",
       "2          422653  2020.0  \n",
       "3          689298  2020.0  \n",
       "4         1582102  2020.0  \n",
       "..            ...     ...  \n",
       "127        400996  2010.0  \n",
       "128        541771  2010.0  \n",
       "129        402292  2010.0  \n",
       "130        474977  2010.0  \n",
       "131        434454  2010.0  \n",
       "\n",
       "[132 rows x 7 columns]"
      ]
     },
     "execution_count": 125,
     "metadata": {},
     "output_type": "execute_result"
    }
   ],
   "source": [
    "import pandas as pd\n",
    "import matplotlib.pyplot as plt\n",
    "\n",
    "dataframeM = pd.read_csv(\"N_viagens_de_ turistas_por_sexo_feminino_e_meio_de_transporte.csv\")\n",
    "dataframeM"
   ]
  },
  {
   "cell_type": "markdown",
   "id": "529928e4",
   "metadata": {},
   "source": [
    "### Verificar a forma como cada campo está escrito "
   ]
  },
  {
   "cell_type": "code",
   "execution_count": 126,
   "id": "2624e01d",
   "metadata": {
    "scrolled": false
   },
   "outputs": [
    {
     "name": "stdout",
     "output_type": "stream",
     "text": [
      "Index(['Id', ' Meses', ' Local_de_residencia', ' Sexo', ' Meio de transporte',\n",
      "       ' N_de_viagens', 'Ano'],\n",
      "      dtype='object')\n"
     ]
    }
   ],
   "source": [
    " print (dataframeM.columns)"
   ]
  },
  {
   "cell_type": "markdown",
   "id": "57224dc1",
   "metadata": {},
   "source": [
    "### Analisar os campos"
   ]
  },
  {
   "cell_type": "code",
   "execution_count": 127,
   "id": "8e23be9e",
   "metadata": {},
   "outputs": [
    {
     "name": "stdout",
     "output_type": "stream",
     "text": [
      "<class 'pandas.core.frame.DataFrame'>\n",
      "RangeIndex: 132 entries, 0 to 131\n",
      "Data columns (total 7 columns):\n",
      " #   Column                Non-Null Count  Dtype  \n",
      "---  ------                --------------  -----  \n",
      " 0   Id                    132 non-null    object \n",
      " 1    Meses                132 non-null    object \n",
      " 2    Local_de_residencia  132 non-null    object \n",
      " 3    Sexo                 132 non-null    object \n",
      " 4    Meio de transporte   132 non-null    object \n",
      " 5    N_de_viagens         132 non-null    object \n",
      " 6   Ano                   131 non-null    float64\n",
      "dtypes: float64(1), object(6)\n",
      "memory usage: 7.3+ KB\n"
     ]
    }
   ],
   "source": [
    "dataframeM.info()"
   ]
  },
  {
   "cell_type": "markdown",
   "id": "4a35615d",
   "metadata": {},
   "source": [
    "### Passa o Campo \"N_de_viagens\" para float"
   ]
  },
  {
   "cell_type": "code",
   "execution_count": 128,
   "id": "86e81383",
   "metadata": {},
   "outputs": [],
   "source": [
    "dataframeM[' N_de_viagens'] = pd.to_numeric(dataframeM[' N_de_viagens'],errors = 'coerce')"
   ]
  },
  {
   "cell_type": "markdown",
   "id": "f840cf65",
   "metadata": {},
   "source": [
    "### Verificar se o Numero de viagens está em float"
   ]
  },
  {
   "cell_type": "code",
   "execution_count": 129,
   "id": "5a9f6f2b",
   "metadata": {},
   "outputs": [
    {
     "name": "stdout",
     "output_type": "stream",
     "text": [
      "<class 'pandas.core.frame.DataFrame'>\n",
      "RangeIndex: 132 entries, 0 to 131\n",
      "Data columns (total 7 columns):\n",
      " #   Column                Non-Null Count  Dtype  \n",
      "---  ------                --------------  -----  \n",
      " 0   Id                    132 non-null    object \n",
      " 1    Meses                132 non-null    object \n",
      " 2    Local_de_residencia  132 non-null    object \n",
      " 3    Sexo                 132 non-null    object \n",
      " 4    Meio de transporte   132 non-null    object \n",
      " 5    N_de_viagens         129 non-null    float64\n",
      " 6   Ano                   131 non-null    float64\n",
      "dtypes: float64(2), object(5)\n",
      "memory usage: 7.3+ KB\n"
     ]
    }
   ],
   "source": [
    "dataframeM.info()"
   ]
  },
  {
   "cell_type": "markdown",
   "id": "02ed1b46",
   "metadata": {},
   "source": [
    "# Ano em que Maximo de Numero de viagens foi alcançado"
   ]
  },
  {
   "cell_type": "code",
   "execution_count": 119,
   "id": "1fc4ae53",
   "metadata": {
    "scrolled": false
   },
   "outputs": [
    {
     "data": {
      "text/html": [
       "<div>\n",
       "<style scoped>\n",
       "    .dataframe tbody tr th:only-of-type {\n",
       "        vertical-align: middle;\n",
       "    }\n",
       "\n",
       "    .dataframe tbody tr th {\n",
       "        vertical-align: top;\n",
       "    }\n",
       "\n",
       "    .dataframe thead th {\n",
       "        text-align: right;\n",
       "    }\n",
       "</style>\n",
       "<table border=\"1\" class=\"dataframe\">\n",
       "  <thead>\n",
       "    <tr style=\"text-align: right;\">\n",
       "      <th></th>\n",
       "      <th>Id</th>\n",
       "      <th>Meses</th>\n",
       "      <th>Local_de_residencia</th>\n",
       "      <th>Sexo</th>\n",
       "      <th>Meio de transporte</th>\n",
       "      <th>N_de_viagens</th>\n",
       "      <th>Ano</th>\n",
       "    </tr>\n",
       "  </thead>\n",
       "  <tbody>\n",
       "    <tr>\n",
       "      <th>16</th>\n",
       "      <td>17</td>\n",
       "      <td>Agosto</td>\n",
       "      <td>Portugal</td>\n",
       "      <td>M</td>\n",
       "      <td>Terrestre</td>\n",
       "      <td>1998405.0</td>\n",
       "      <td>2019.0</td>\n",
       "    </tr>\n",
       "  </tbody>\n",
       "</table>\n",
       "</div>"
      ],
      "text/plain": [
       "    Id    Meses  Local_de_residencia  Sexo  Meio de transporte   N_de_viagens  \\\n",
       "16  17   Agosto             Portugal     M           Terrestre      1998405.0   \n",
       "\n",
       "       Ano  \n",
       "16  2019.0  "
      ]
     },
     "execution_count": 119,
     "metadata": {},
     "output_type": "execute_result"
    }
   ],
   "source": [
    "total_list = dataframeM[' N_de_viagens'].tolist() \n",
    "\n",
    "max_viagens = dataframeM[' N_de_viagens']== max(total_list)  \n",
    "\n",
    "dataframeM.loc[max_viagens] \n"
   ]
  },
  {
   "cell_type": "markdown",
   "id": "a9b2d505",
   "metadata": {},
   "source": [
    "# Resposta a questão Principal:\n",
    "\n",
    "### Em que ano o sexo Feminino realizou mais viagens?\n"
   ]
  },
  {
   "cell_type": "code",
   "execution_count": 124,
   "id": "92d9540b",
   "metadata": {},
   "outputs": [
    {
     "data": {
      "image/png": "[encoded data removed]",
      "text/plain": [
       "<Figure size 432x288 with 1 Axes>"
      ]
     },
     "metadata": {
      "needs_background": "light"
     },
     "output_type": "display_data"
    }
   ],
   "source": [
    "grupos = dataframeM['Ano']\n",
    "valores = dataframeM[' N_de_viagens']\n",
    "plt.bar(grupos, valores)\n",
    "plt.title(\"O Ano em que o sexo Feminino mais viajou\")\n",
    "plt.show()"
   ]
  },
  {
   "cell_type": "code",
   "execution_count": null,
   "id": "9850ebdd",
   "metadata": {},
   "outputs": [],
   "source": []
  }
 ],
 "metadata": {
  "kernelspec": {
   "display_name": "Python 3",
   "language": "python",
   "name": "python3"
  },
  "language_info": {
   "codemirror_mode": {
    "name": "ipython",
    "version": 3
   },
   "file_extension": ".py",
   "mimetype": "text/x-python",
   "name": "python",
   "nbconvert_exporter": "python",
   "pygments_lexer": "ipython3",
   "version": "3.8.8"
  }
 },
 "nbformat": 4,
 "nbformat_minor": 5
}
