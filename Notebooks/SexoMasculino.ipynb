{
 "cells": [
  {
   "cell_type": "markdown",
   "metadata": {},
   "source": [
    "# Import Pandas,Matplotlib e CSV"
   ]
  },
  {
   "cell_type": "code",
   "execution_count": 20,
   "metadata": {
    "scrolled": true
   },
   "outputs": [
    {
     "data": {
      "text/html": [
       "<div>\n",
       "<style scoped>\n",
       "    .dataframe tbody tr th:only-of-type {\n",
       "        vertical-align: middle;\n",
       "    }\n",
       "\n",
       "    .dataframe tbody tr th {\n",
       "        vertical-align: top;\n",
       "    }\n",
       "\n",
       "    .dataframe thead th {\n",
       "        text-align: right;\n",
       "    }\n",
       "</style>\n",
       "<table border=\"1\" class=\"dataframe\">\n",
       "  <thead>\n",
       "    <tr style=\"text-align: right;\">\n",
       "      <th></th>\n",
       "      <th>Id</th>\n",
       "      <th>Meses</th>\n",
       "      <th>Local_de_residencia</th>\n",
       "      <th>Sexo</th>\n",
       "      <th>Meio_de_transporte</th>\n",
       "      <th>N_de_viagens</th>\n",
       "      <th>Ano</th>\n",
       "    </tr>\n",
       "  </thead>\n",
       "  <tbody>\n",
       "    <tr>\n",
       "      <th>0</th>\n",
       "      <td>1</td>\n",
       "      <td>Dezembro</td>\n",
       "      <td>Portugal</td>\n",
       "      <td>H</td>\n",
       "      <td>Terrestre</td>\n",
       "      <td>455660</td>\n",
       "      <td>2020</td>\n",
       "    </tr>\n",
       "    <tr>\n",
       "      <th>1</th>\n",
       "      <td>2</td>\n",
       "      <td>Novembro</td>\n",
       "      <td>Portugal</td>\n",
       "      <td>H</td>\n",
       "      <td>Terrestre</td>\n",
       "      <td>257429</td>\n",
       "      <td>2020</td>\n",
       "    </tr>\n",
       "    <tr>\n",
       "      <th>2</th>\n",
       "      <td>3</td>\n",
       "      <td>Outubro</td>\n",
       "      <td>Portugal</td>\n",
       "      <td>H</td>\n",
       "      <td>Terrestre</td>\n",
       "      <td>370955</td>\n",
       "      <td>2020</td>\n",
       "    </tr>\n",
       "    <tr>\n",
       "      <th>3</th>\n",
       "      <td>4</td>\n",
       "      <td>Setembro</td>\n",
       "      <td>Portugal</td>\n",
       "      <td>H</td>\n",
       "      <td>Terrestre</td>\n",
       "      <td>651954</td>\n",
       "      <td>2020</td>\n",
       "    </tr>\n",
       "    <tr>\n",
       "      <th>4</th>\n",
       "      <td>5</td>\n",
       "      <td>Agosto</td>\n",
       "      <td>Portugal</td>\n",
       "      <td>H</td>\n",
       "      <td>Terrestre</td>\n",
       "      <td>1480003</td>\n",
       "      <td>2020</td>\n",
       "    </tr>\n",
       "    <tr>\n",
       "      <th>...</th>\n",
       "      <td>...</td>\n",
       "      <td>...</td>\n",
       "      <td>...</td>\n",
       "      <td>...</td>\n",
       "      <td>...</td>\n",
       "      <td>...</td>\n",
       "      <td>...</td>\n",
       "    </tr>\n",
       "    <tr>\n",
       "      <th>127</th>\n",
       "      <td>128</td>\n",
       "      <td>Maio</td>\n",
       "      <td>Portugal</td>\n",
       "      <td>H</td>\n",
       "      <td>Terrestre</td>\n",
       "      <td>378346</td>\n",
       "      <td>2010</td>\n",
       "    </tr>\n",
       "    <tr>\n",
       "      <th>128</th>\n",
       "      <td>129</td>\n",
       "      <td>Abril</td>\n",
       "      <td>Portugal</td>\n",
       "      <td>H</td>\n",
       "      <td>Terrestre</td>\n",
       "      <td>494672</td>\n",
       "      <td>2010</td>\n",
       "    </tr>\n",
       "    <tr>\n",
       "      <th>129</th>\n",
       "      <td>130</td>\n",
       "      <td>Marco</td>\n",
       "      <td>Portugal</td>\n",
       "      <td>H</td>\n",
       "      <td>Terrestre</td>\n",
       "      <td>392709</td>\n",
       "      <td>2010</td>\n",
       "    </tr>\n",
       "    <tr>\n",
       "      <th>130</th>\n",
       "      <td>131</td>\n",
       "      <td>Fevereiro</td>\n",
       "      <td>Portugal</td>\n",
       "      <td>H</td>\n",
       "      <td>Terrestre</td>\n",
       "      <td>489501</td>\n",
       "      <td>2010</td>\n",
       "    </tr>\n",
       "    <tr>\n",
       "      <th>131</th>\n",
       "      <td>132</td>\n",
       "      <td>Janeiro</td>\n",
       "      <td>Portugal</td>\n",
       "      <td>H</td>\n",
       "      <td>Terrestre</td>\n",
       "      <td>412087</td>\n",
       "      <td>2010</td>\n",
       "    </tr>\n",
       "  </tbody>\n",
       "</table>\n",
       "<p>132 rows × 7 columns</p>\n",
       "</div>"
      ],
      "text/plain": [
       "      Id       Meses  Local_de_residencia  Sexo  Meio_de_transporte  \\\n",
       "0      1    Dezembro             Portugal     H           Terrestre   \n",
       "1      2    Novembro             Portugal     H           Terrestre   \n",
       "2      3     Outubro             Portugal     H           Terrestre   \n",
       "3      4    Setembro             Portugal     H           Terrestre   \n",
       "4      5      Agosto             Portugal     H           Terrestre   \n",
       "..   ...         ...                  ...   ...                 ...   \n",
       "127  128        Maio             Portugal     H           Terrestre   \n",
       "128  129       Abril             Portugal     H           Terrestre   \n",
       "129  130       Marco             Portugal     H           Terrestre   \n",
       "130  131   Fevereiro             Portugal     H           Terrestre   \n",
       "131  132     Janeiro             Portugal     H           Terrestre   \n",
       "\n",
       "     N_de_viagens   Ano  \n",
       "0          455660  2020  \n",
       "1          257429  2020  \n",
       "2          370955  2020  \n",
       "3          651954  2020  \n",
       "4         1480003  2020  \n",
       "..            ...   ...  \n",
       "127        378346  2010  \n",
       "128        494672  2010  \n",
       "129        392709  2010  \n",
       "130        489501  2010  \n",
       "131        412087  2010  \n",
       "\n",
       "[132 rows x 7 columns]"
      ]
     },
     "execution_count": 20,
     "metadata": {},
     "output_type": "execute_result"
    }
   ],
   "source": [
    "import pandas as pd\n",
    "import matplotlib.pyplot as plt\n",
    "dataframeH = pd.read_csv('N_viagens_de_ turistas_por_sexo_masculino_e_meio_de_transporte.csv') \n",
    "dataframeH\n"
   ]
  },
  {
   "cell_type": "markdown",
   "metadata": {},
   "source": [
    "### Verificar a forma como cada campo está escrito "
   ]
  },
  {
   "cell_type": "code",
   "execution_count": 21,
   "metadata": {
    "scrolled": true
   },
   "outputs": [
    {
     "name": "stdout",
     "output_type": "stream",
     "text": [
      "Index(['Id', ' Meses', ' Local_de_residencia', ' Sexo', ' Meio_de_transporte',\n",
      "       ' N_de_viagens', ' Ano'],\n",
      "      dtype='object')\n"
     ]
    }
   ],
   "source": [
    " print (dataframeH.columns)"
   ]
  },
  {
   "cell_type": "markdown",
   "metadata": {},
   "source": [
    "### Analisar os campos"
   ]
  },
  {
   "cell_type": "code",
   "execution_count": 22,
   "metadata": {},
   "outputs": [
    {
     "name": "stdout",
     "output_type": "stream",
     "text": [
      "<class 'pandas.core.frame.DataFrame'>\n",
      "RangeIndex: 132 entries, 0 to 131\n",
      "Data columns (total 7 columns):\n",
      " #   Column                Non-Null Count  Dtype \n",
      "---  ------                --------------  ----- \n",
      " 0   Id                    132 non-null    int64 \n",
      " 1    Meses                132 non-null    object\n",
      " 2    Local_de_residencia  132 non-null    object\n",
      " 3    Sexo                 132 non-null    object\n",
      " 4    Meio_de_transporte   132 non-null    object\n",
      " 5    N_de_viagens         132 non-null    object\n",
      " 6    Ano                  132 non-null    int64 \n",
      "dtypes: int64(2), object(5)\n",
      "memory usage: 7.3+ KB\n"
     ]
    }
   ],
   "source": [
    "dataframeH.info()"
   ]
  },
  {
   "cell_type": "markdown",
   "metadata": {},
   "source": [
    "### Passa o Campo \"N_de_viagens\" para float"
   ]
  },
  {
   "cell_type": "code",
   "execution_count": 23,
   "metadata": {},
   "outputs": [],
   "source": [
    "dataframeH[' N_de_viagens'] = pd.to_numeric(dataframeH[' N_de_viagens'],errors = 'coerce')"
   ]
  },
  {
   "cell_type": "markdown",
   "metadata": {},
   "source": [
    "### Verificar se o Numero de viagens está em float"
   ]
  },
  {
   "cell_type": "code",
   "execution_count": 24,
   "metadata": {
    "scrolled": false
   },
   "outputs": [
    {
     "name": "stdout",
     "output_type": "stream",
     "text": [
      "<class 'pandas.core.frame.DataFrame'>\n",
      "RangeIndex: 132 entries, 0 to 131\n",
      "Data columns (total 7 columns):\n",
      " #   Column                Non-Null Count  Dtype  \n",
      "---  ------                --------------  -----  \n",
      " 0   Id                    132 non-null    int64  \n",
      " 1    Meses                132 non-null    object \n",
      " 2    Local_de_residencia  132 non-null    object \n",
      " 3    Sexo                 132 non-null    object \n",
      " 4    Meio_de_transporte   132 non-null    object \n",
      " 5    N_de_viagens         130 non-null    float64\n",
      " 6    Ano                  132 non-null    int64  \n",
      "dtypes: float64(1), int64(2), object(4)\n",
      "memory usage: 7.3+ KB\n"
     ]
    }
   ],
   "source": [
    "dataframeH.info()"
   ]
  },
  {
   "cell_type": "markdown",
   "metadata": {},
   "source": [
    "# Resposta a questão Principal:\n",
    "\n",
    "### Em que ano o sexo Masculino realizou mais viagens?"
   ]
  },
  {
   "cell_type": "code",
   "execution_count": 25,
   "metadata": {},
   "outputs": [
    {
     "data": {
      "text/plain": [
       "Text(0, 0.5, 'Numero de Viagens')"
      ]
     },
     "execution_count": 25,
     "metadata": {},
     "output_type": "execute_result"
    },
    {
     "data": {
      "image/png": "[encoded data removed]",
      "text/plain": [
       "<Figure size 432x288 with 1 Axes>"
      ]
     },
     "metadata": {
      "needs_background": "light"
     },
     "output_type": "display_data"
    }
   ],
   "source": [
    "fig, ax = plt.subplots()\n",
    "ax.scatter(dataframeH[' Ano'], dataframeH[' N_de_viagens'])\n",
    "ax.set_title('O Ano em que o sexo Masculino mais viajou')\n",
    "ax.set_xlabel('Anos')\n",
    "ax.set_ylabel('Numero de Viagens')"
   ]
  },
  {
   "cell_type": "code",
   "execution_count": null,
   "metadata": {},
   "outputs": [],
   "source": []
  }
 ],
 "metadata": {
  "kernelspec": {
   "display_name": "Python 3",
   "language": "python",
   "name": "python3"
  },
  "language_info": {
   "codemirror_mode": {
    "name": "ipython",
    "version": 3
   },
   "file_extension": ".py",
   "mimetype": "text/x-python",
   "name": "python",
   "nbconvert_exporter": "python",
   "pygments_lexer": "ipython3",
   "version": "3.8.8"
  }
 },
 "nbformat": 4,
 "nbformat_minor": 4
}
